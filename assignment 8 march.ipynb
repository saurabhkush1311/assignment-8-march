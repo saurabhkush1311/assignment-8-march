{
 "cells": [
  {
   "cell_type": "markdown",
   "id": "0dde75be-c8e1-4fe7-a329-c2797f79f531",
   "metadata": {},
   "source": [
    "Question1: What is the Probability density function?"
   ]
  },
  {
   "cell_type": "code",
   "execution_count": null,
   "id": "ca8e6331-4bfb-443e-86e7-62f5a3865235",
   "metadata": {},
   "outputs": [],
   "source": [
    "#Answer:\n",
    "\"\"\"The Probability Density Function (PDF) is a fundamental concept in probability theory and statistics.\n",
    "It is a function that describes the likelihood of a continuous random variable taking on a specific value within a given range. \n",
    "In simpler terms, the PDF provides the relative likelihood of different outcomes occurring within a continuous range.\n",
    "\n",
    "\n",
    "For a continuous random variable X, the PDF is denoted as f(x) and satisfies the following properties:\n",
    "\n",
    "Non-negativity: The PDF is non-negative for all values of x, i.e., f(x) ≥ 0.\n",
    "Area under the curve: The total area under the curve of the PDF over the entire range of X is equal to 1. This means that the probability of X taking any value within its range is 1.\"\"\""
   ]
  },
  {
   "cell_type": "markdown",
   "id": "a4e6625d-469d-4df6-958a-0e1d2d40bda9",
   "metadata": {},
   "source": [
    "Question2: What are the types of Probability distribution?"
   ]
  },
  {
   "cell_type": "code",
   "execution_count": 1,
   "id": "5021ba35-da25-474b-a2a1-74c68e2a46b5",
   "metadata": {},
   "outputs": [],
   "source": [
    "#Answer:\n",
    "#1. Bernoulli Distribution.\n",
    "#2. Binomial Distribution.\n",
    "#3. Poisson Distribution.\n",
    "#4. Normal/Gaussian Distribution.\n",
    "#5. Uniform Distribution.\n",
    "#6. Lof Normal Distribution."
   ]
  },
  {
   "cell_type": "markdown",
   "id": "88a2d574-640d-4224-85bf-f8c2f5efa95a",
   "metadata": {},
   "source": [
    "Question3: Write a Python function to calculate the probability density function of a normal distribution with\n",
    "given mean and standard deviation at a given point."
   ]
  },
  {
   "cell_type": "code",
   "execution_count": 2,
   "id": "ccd90b89-e085-40d6-899c-56ff0d41ee1a",
   "metadata": {},
   "outputs": [],
   "source": [
    "#Answer:\n",
    "import math\n",
    "def normal_pdf(x, mean, std_dev):\n",
    "    coefficient = 1 / (std_dev * math.sqrt(2 * math.pi))\n",
    "    exponent = -((x - mean) ** 2) / (2 * std_dev ** 2)\n",
    "    pdf_value = coefficient * math.exp(exponent)\n",
    "    return pdf_value"
   ]
  },
  {
   "cell_type": "code",
   "execution_count": 3,
   "id": "1f7b5a14-ea99-4519-ab04-825f8e964fb6",
   "metadata": {},
   "outputs": [
    {
     "data": {
      "text/plain": [
       "0.2129653370149015"
      ]
     },
     "execution_count": 3,
     "metadata": {},
     "output_type": "execute_result"
    }
   ],
   "source": [
    "normal_pdf(0,1,1.5)"
   ]
  },
  {
   "cell_type": "markdown",
   "id": "85d4183a-adc0-4780-90db-ba16206652c5",
   "metadata": {},
   "source": [
    "Question4: What are the properties of Binomial distribution? Give two examples of events where binomial\n",
    "distribution can be applied."
   ]
  },
  {
   "cell_type": "code",
   "execution_count": null,
   "id": "652ad847-11b8-4e83-8e4a-2197cd8a7a61",
   "metadata": {},
   "outputs": [],
   "source": [
    "#Answer:\n",
    "\"\"\"The Binomial distribution is a discrete probability distribution that is widely used to model the number of successes in a fixed number of independent Bernoulli trials, where each trial has only two possible outcomes: success or failure. The key properties of the Binomial distribution are as follows:\n",
    "\n",
    "Fixed number of trials (n): The Binomial distribution is defined for a fixed number of trials (n), meaning you conduct a specific number of identical trials, each with a binary outcome.\n",
    "\n",
    "Independent trials: Each trial is assumed to be independent of the others, meaning the outcome of one trial does not affect the outcome of any other trial.\n",
    "\n",
    "Two outcomes: Each trial results in one of two possible outcomes: success or failure. The probability of success in each trial is denoted by 'p', and the probability of failure is denoted by 'q', where q = 1 - p.\n",
    "\n",
    "Constant probability of success: The probability of success (p) remains constant for all trials. This is a crucial assumption for the Binomial distribution.\n",
    "\n",
    "Discrete distribution: The Binomial distribution is a discrete probability distribution, as it deals with a countable number of discrete outcomes (the number of successes).\n",
    "\n",
    "The probability mass function (PMF) of the Binomial distribution is given by:\n",
    "\n",
    "P(X = k) = C(n, k) * p^k * q^(n - k)\n",
    "\n",
    "where:\n",
    "\n",
    "P(X = k) is the probability of getting exactly k successes in n trials.\n",
    "C(n, k) is the binomial coefficient, also denoted as \"n choose k,\" which is the number of ways to choose k successes out of n trials and is calculated as C(n, k) = n! / (k! * (n - k)!).\n",
    "Two examples of events where the Binomial distribution can be applied are:\n",
    "\n",
    "Coin Flipping: Consider flipping a fair coin multiple times. Each flip can result in either a \"heads\" (success) or \"tails\" (failure) outcome. The probability of getting heads in a single flip is 0.5 (p = 0.5) and tails is also 0.5 (q = 0.5). If we want to find the probability of getting a specific number of heads (successes) in a fixed number of flips (trials), we can use the Binomial distribution.\n",
    "\n",
    "Product Defects: Suppose a manufacturing company produces a large number of items, and each item has a certain probability of being defective (e.g., p = 0.02). The Binomial distribution can be used to model the number of defective items in a random sample of fixed size (n) taken from the production line. This allows the company to analyze the likelihood of different numbers of defective items occurring in the sample.\"\"\""
   ]
  },
  {
   "cell_type": "markdown",
   "id": "0b35c044-66a2-4028-aa2e-058dce7ea1f8",
   "metadata": {},
   "source": [
    "Question5: Generate a random sample of size 1000 from a binomial distribution with probability of success 0.4\n",
    "and plot a histogram of the results using matplotlib."
   ]
  },
  {
   "cell_type": "code",
   "execution_count": 6,
   "id": "79a98835-d517-4db1-88eb-bf82554e5b32",
   "metadata": {},
   "outputs": [
    {
     "data": {
      "image/png": "[encoded data removed]",
      "text/plain": [
       "<Figure size 640x480 with 1 Axes>"
      ]
     },
     "metadata": {},
     "output_type": "display_data"
    }
   ],
   "source": [
    "#Answer:\n",
    "\n",
    "import numpy as np\n",
    "import matplotlib.pyplot as plt\n",
    "prob_of_success = 0.4\n",
    "no_of_trials = 1000\n",
    "\n",
    "random_sample = np.random.binomial(no_of_trials , prob_of_success , size=1000)\n",
    "\n",
    "plt.hist(random_sample , bins = range(no_of_trials+1),align = \"left\" , edgecolor = \"black\")\n",
    "plt.xlabel('Number of Successes')\n",
    "plt.ylabel('Frequency')\n",
    "plt.title('Binomial Distribution Histogram')\n",
    "plt.show()"
   ]
  },
  {
   "cell_type": "markdown",
   "id": "d005aa1a-2ccf-4b48-9ff2-4d1b065d4812",
   "metadata": {},
   "source": [
    "Question6:Write a Python function to calculate the cumulative distribution function of a Poisson distribution\n",
    "with given mean at a given point."
   ]
  },
  {
   "cell_type": "code",
   "execution_count": 7,
   "id": "df0bf150-4c49-407a-bab5-2a90929a69bf",
   "metadata": {},
   "outputs": [],
   "source": [
    "#Answer:\n",
    "import math\n",
    "def poisson_cdf(x,mean):\n",
    "    cdf_value = 0.0\n",
    "    for k in range(x+1):\n",
    "        cdf_value += math.exp(-mean) * (mean ** k) / math.factorial(k)\n",
    "    return cdf_value"
   ]
  },
  {
   "cell_type": "code",
   "execution_count": 9,
   "id": "e68e24aa-4336-4e60-ae83-5803a3096591",
   "metadata": {},
   "outputs": [
    {
     "data": {
      "text/plain": [
       "0.9863047314016171"
      ]
     },
     "execution_count": 9,
     "metadata": {},
     "output_type": "execute_result"
    }
   ],
   "source": [
    "poisson_cdf(10,5)"
   ]
  },
  {
   "cell_type": "markdown",
   "id": "39bc8383-a744-409e-8594-e5d4f7de6f39",
   "metadata": {},
   "source": [
    "Question7: How Binomial distribution different from Poisson distribution?"
   ]
  },
  {
   "cell_type": "code",
   "execution_count": null,
   "id": "9d69a168-0887-4533-9339-8df93b5e81b3",
   "metadata": {},
   "outputs": [],
   "source": [
    "#Answer:\n",
    "\"\"\"the Binomial distribution is used for discrete trials with a fixed number of outcomes, \n",
    "while the Poisson distribution is used for modeling the number of events occurring in a continuous or infinitely divisible interval with a constant average rate.\"\"\""
   ]
  },
  {
   "cell_type": "markdown",
   "id": "b2d52e5e-e854-4d06-a72f-28768cb3f365",
   "metadata": {},
   "source": [
    "Question8: Generate a random sample of size 1000 from a Poisson distribution with mean 5 and calculate the\n",
    "sample mean and variance."
   ]
  },
  {
   "cell_type": "code",
   "execution_count": 10,
   "id": "d4b504ce-e4b5-4aa6-9803-51452d2ef1e4",
   "metadata": {},
   "outputs": [],
   "source": [
    "#Answer:\n",
    "\n",
    "import numpy as np\n",
    "mean = 5\n",
    "sample_size = 1000\n",
    "random_sample = np.random.poisson(mean , size = sample_size)\n",
    "sample_mean = np.mean(random_sample)\n",
    "sample_variance = np.var(random_sample)"
   ]
  },
  {
   "cell_type": "code",
   "execution_count": 11,
   "id": "25bf9d59-f7bb-45aa-88ae-8a569b126d79",
   "metadata": {},
   "outputs": [
    {
     "data": {
      "text/plain": [
       "5.082"
      ]
     },
     "execution_count": 11,
     "metadata": {},
     "output_type": "execute_result"
    }
   ],
   "source": [
    "sample_mean"
   ]
  },
  {
   "cell_type": "code",
   "execution_count": 13,
   "id": "c7bed881-b2d3-41c5-8e52-047bbc393f1a",
   "metadata": {},
   "outputs": [
    {
     "data": {
      "text/plain": [
       "5.269276"
      ]
     },
     "execution_count": 13,
     "metadata": {},
     "output_type": "execute_result"
    }
   ],
   "source": [
    "sample_variance"
   ]
  },
  {
   "cell_type": "markdown",
   "id": "6acaed36-f813-46db-9869-0bd6e7942715",
   "metadata": {},
   "source": [
    "Question9: How mean and variance are related in Binomial distribution and Poisson distribution?"
   ]
  },
  {
   "cell_type": "code",
   "execution_count": null,
   "id": "58b286be-36d7-4b49-938d-ec7bb0dd23e9",
   "metadata": {},
   "outputs": [],
   "source": [
    "#Answer:\n",
    "\n",
    "\"\"\"For the Binomial distribution:\n",
    "\n",
    "Mean (μ) = n * p, where 'n' is the number of trials and 'p' is the probability of success in each trial.\n",
    "\n",
    "Variance (σ^2) = n * p * (1 - p).\n",
    "\n",
    "For the Poisson distribution:\n",
    "\n",
    "Mean (μ) = λ*t, where 'λ' is the average rate of occurrence , t is time interval.\n",
    "\n",
    "Variance (σ^2) = λ*t."
   ]
  },
  {
   "cell_type": "markdown",
   "id": "e0462822-54dd-497c-b1a5-56949f894b15",
   "metadata": {},
   "source": [
    "Question10: In normal distribution with respect to mean position, where does the least frequent data appear?"
   ]
  },
  {
   "cell_type": "code",
   "execution_count": null,
   "id": "864339d1-b882-4d3c-803e-46eb4fd27b4c",
   "metadata": {},
   "outputs": [],
   "source": [
    "#A"
   ]
  }
 ],
 "metadata": {
  "kernelspec": {
   "display_name": "Python 3 (ipykernel)",
   "language": "python",
   "name": "python3"
  },
  "language_info": {
   "codemirror_mode": {
    "name": "ipython",
    "version": 3
   },
   "file_extension": ".py",
   "mimetype": "text/x-python",
   "name": "python",
   "nbconvert_exporter": "python",
   "pygments_lexer": "ipython3",
   "version": "3.10.6"
  }
 },
 "nbformat": 4,
 "nbformat_minor": 5
}
